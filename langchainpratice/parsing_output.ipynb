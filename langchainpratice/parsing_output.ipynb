{
 "cells": [
  {
   "cell_type": "code",
   "execution_count": 94,
   "id": "d815ef93-bfc9-458e-a293-c098cd8e1c7e",
   "metadata": {},
   "outputs": [
    {
     "name": "stdout",
     "output_type": "stream",
     "text": [
      "gpt-3.5-turbo\n"
     ]
    }
   ],
   "source": [
    "from langchain_openai import ChatOpenAI, OpenAI\n",
    "from langchain.prompts.chat import ChatPromptTemplate,SystemMessagePromptTemplate,HumanMessagePromptTemplate,AIMessagePromptTemplate\n",
    "model = ChatOpenAI()\n",
    "print(model.model_name)"
   ]
  },
  {
   "cell_type": "code",
   "execution_count": 2,
   "id": "87741c9d-3629-45be-b9f1-b29eac5ba6eb",
   "metadata": {},
   "outputs": [],
   "source": [
    "# step one - Import Parser\n",
    "from langchain.output_parsers import CommaSeparatedListOutputParser\n",
    "output_parser = CommaSeparatedListOutputParser()"
   ]
  },
  {
   "cell_type": "code",
   "execution_count": 3,
   "id": "c46dd4fe-4a7a-4804-b4e9-71ff53cc2ff3",
   "metadata": {},
   "outputs": [
    {
     "data": {
      "text/plain": [
       "'Your response should be a list of comma separated values, eg: `foo, bar, baz` or `foo,bar,baz`'"
      ]
     },
     "execution_count": 3,
     "metadata": {},
     "output_type": "execute_result"
    }
   ],
   "source": [
    "# step two - format instructions\n",
    "output_parser.get_format_instructions()"
   ]
  },
  {
   "cell_type": "code",
   "execution_count": 4,
   "id": "09fc425e-c23b-4731-9516-8bb2ed7d75eb",
   "metadata": {},
   "outputs": [],
   "source": [
    "reply = \"red, blue, green\""
   ]
  },
  {
   "cell_type": "code",
   "execution_count": 7,
   "id": "9e1ce347-eb29-4482-b661-a2b376e2ce7d",
   "metadata": {},
   "outputs": [
    {
     "data": {
      "text/plain": [
       "['red', 'blue', 'green']"
      ]
     },
     "execution_count": 7,
     "metadata": {},
     "output_type": "execute_result"
    }
   ],
   "source": [
    "output_parser.parse(reply)"
   ]
  },
  {
   "cell_type": "code",
   "execution_count": 10,
   "id": "064b613d-24bc-4437-bdb3-561ec11481d2",
   "metadata": {},
   "outputs": [],
   "source": [
    "human_template = \"{request}\\n{format_instructions}\"\n",
    "human_prompt = HumanMessagePromptTemplate.from_template(human_template)"
   ]
  },
  {
   "cell_type": "code",
   "execution_count": 24,
   "id": "dbbf75f7-a334-4c95-88a5-f59bde4a2cbf",
   "metadata": {},
   "outputs": [],
   "source": [
    "chat_prompt = ChatPromptTemplate.from_messages([human_prompt])"
   ]
  },
  {
   "cell_type": "code",
   "execution_count": 25,
   "id": "5f57af11-e50a-488e-bab7-fff2a796c069",
   "metadata": {},
   "outputs": [],
   "source": [
    "model_request = chat_prompt.format_prompt(request=\"give me 5 characteristics of dogs\",\n",
    "                          format_instructions=output_parser.get_format_instructions()).to_messages()"
   ]
  },
  {
   "cell_type": "code",
   "execution_count": 26,
   "id": "d5911349-ba7f-483f-acd3-5bbc3dca6ae5",
   "metadata": {},
   "outputs": [],
   "source": [
    "result = model(model_request)"
   ]
  },
  {
   "cell_type": "code",
   "execution_count": 27,
   "id": "2be85f2a-cb4d-411a-b0ad-daa74a2283db",
   "metadata": {},
   "outputs": [
    {
     "data": {
      "text/plain": [
       "'Loyal, playful, protective, obedient, energetic'"
      ]
     },
     "execution_count": 27,
     "metadata": {},
     "output_type": "execute_result"
    }
   ],
   "source": [
    "result.content"
   ]
  },
  {
   "cell_type": "code",
   "execution_count": 28,
   "id": "d1a1ad5c-99ee-473e-a9cb-4716dc68b019",
   "metadata": {},
   "outputs": [
    {
     "data": {
      "text/plain": [
       "['Loyal', 'playful', 'protective', 'obedient', 'energetic']"
      ]
     },
     "execution_count": 28,
     "metadata": {},
     "output_type": "execute_result"
    }
   ],
   "source": [
    "output_parser.parse(result.content)"
   ]
  },
  {
   "cell_type": "markdown",
   "id": "744c17c2-bf6c-40d9-887d-142832e0d88f",
   "metadata": {},
   "source": [
    "# when the model ddoes not parser correctly"
   ]
  },
  {
   "cell_type": "code",
   "execution_count": 30,
   "id": "128c6ff2-70dd-4c86-828c-c063337cfc46",
   "metadata": {},
   "outputs": [
    {
     "data": {
      "text/plain": [
       "\"Dogs are often called man's best friend, and for good reason. They are loyal, loving, and endlessly devoted to their human companions. Here are some reasons why dogs are such amazing creatures:\\n\\n1. Loyalty: Dogs have an incredible sense of loyalty to their owners. They will stand by you through thick and thin, always ready to provide comfort and support.\\n\\n2. Unconditional love: Dogs love their owners unconditionally, never judging or holding grudges. They are always happy to see you, no matter what kind of day you've had.\\n\\n3. Playfulness: Dogs have an infectious sense of playfulness that can bring joy to even the dreariest of days. Whether they're chasing a ball, going for a walk, or just wagging their tails, dogs know how to have fun.\\n\\n4. Protection: Dogs are natural protectors, always on the lookout for any potential threats to their loved ones. Their loyalty and bravery make them excellent guard dogs and companions.\\n\\n5. Companionship: Dogs are excellent companions, providing emotional support and companionship to their owners. They can help reduce feelings of loneliness and provide a sense of purpose to their human companions.\\n\\n6. Health benefits: Owning a dog has been shown to have numerous health benefits, including lower blood pressure, decreased feelings of loneliness, and increased physical activity. Dogs can help their owners lead healthier and happier lives.\\n\\n7. Bonding: The bond between a dog and their owner is truly special. Dogs have an amazing ability to sense their owner's emotions and provide comfort when needed. This bond can be incredibly strong and enduring.\\n\\nOverall, dogs are truly amazing animals that bring so much joy and love into our lives. Whether you're a dog owner or just a dog lover, it's clear that our furry friends have a special place in our hearts.\""
      ]
     },
     "execution_count": 30,
     "metadata": {},
     "output_type": "execute_result"
    }
   ],
   "source": [
    "model_request = chat_prompt.format_prompt(request=\"write me a blog post about dogs\",\n",
    "                          format_instructions=output_parser.get_format_instructions()).to_messages()\n",
    "result = model(model_request)\n",
    "result.content"
   ]
  },
  {
   "cell_type": "code",
   "execution_count": 31,
   "id": "4e7937bb-d2af-42a7-9053-04f7adf5cab3",
   "metadata": {},
   "outputs": [
    {
     "data": {
      "text/plain": [
       "[\"Dogs are often called man's best friend\",\n",
       " 'and for good reason. They are loyal',\n",
       " 'loving',\n",
       " 'and endlessly devoted to their human companions. Here are some reasons why dogs are such amazing creatures:',\n",
       " '1. Loyalty: Dogs have an incredible sense of loyalty to their owners. They will stand by you through thick and thin',\n",
       " 'always ready to provide comfort and support.',\n",
       " '2. Unconditional love: Dogs love their owners unconditionally',\n",
       " 'never judging or holding grudges. They are always happy to see you',\n",
       " \"no matter what kind of day you've had.\",\n",
       " \"3. Playfulness: Dogs have an infectious sense of playfulness that can bring joy to even the dreariest of days. Whether they're chasing a ball\",\n",
       " 'going for a walk',\n",
       " 'or just wagging their tails',\n",
       " 'dogs know how to have fun.',\n",
       " '4. Protection: Dogs are natural protectors',\n",
       " 'always on the lookout for any potential threats to their loved ones. Their loyalty and bravery make them excellent guard dogs and companions.',\n",
       " '5. Companionship: Dogs are excellent companions',\n",
       " 'providing emotional support and companionship to their owners. They can help reduce feelings of loneliness and provide a sense of purpose to their human companions.',\n",
       " '6. Health benefits: Owning a dog has been shown to have numerous health benefits',\n",
       " 'including lower blood pressure',\n",
       " 'decreased feelings of loneliness',\n",
       " 'and increased physical activity. Dogs can help their owners lead healthier and happier lives.',\n",
       " \"7. Bonding: The bond between a dog and their owner is truly special. Dogs have an amazing ability to sense their owner's emotions and provide comfort when needed. This bond can be incredibly strong and enduring.\",\n",
       " 'Overall',\n",
       " \"dogs are truly amazing animals that bring so much joy and love into our lives. Whether you're a dog owner or just a dog lover\",\n",
       " \"it's clear that our furry friends have a special place in our hearts.\"]"
      ]
     },
     "execution_count": 31,
     "metadata": {},
     "output_type": "execute_result"
    }
   ],
   "source": [
    "output_parser.parse(result.content)"
   ]
  },
  {
   "cell_type": "code",
   "execution_count": 32,
   "id": "3bcf5ef2-e638-49e7-9502-3c0694e03477",
   "metadata": {},
   "outputs": [],
   "source": [
    "from langchain.output_parsers import DatetimeOutputParser"
   ]
  },
  {
   "cell_type": "code",
   "execution_count": 48,
   "id": "4506da0f-af1e-403d-b4e3-5d50254c70d3",
   "metadata": {},
   "outputs": [],
   "source": [
    "datetime_parser = DatetimeOutputParser()"
   ]
  },
  {
   "cell_type": "code",
   "execution_count": 49,
   "id": "fd62e719-9239-4d26-bf99-102fab8f74bb",
   "metadata": {},
   "outputs": [
    {
     "data": {
      "text/plain": [
       "\"Write a datetime string that matches the following pattern: '%Y-%m-%dT%H:%M:%S.%fZ'.\\n\\nExamples: 2023-07-04T14:30:00.000000Z, 1999-12-31T23:59:59.999999Z, 2025-01-01T00:00:00.000000Z\\n\\nReturn ONLY this string, no other words!\""
      ]
     },
     "execution_count": 49,
     "metadata": {},
     "output_type": "execute_result"
    }
   ],
   "source": [
    "datetime_parser.get_format_instructions()"
   ]
  },
  {
   "cell_type": "code",
   "execution_count": 95,
   "id": "588d13f8-ac6d-4c7f-ab41-16ef25734b11",
   "metadata": {},
   "outputs": [],
   "source": [
    "template_text = \"{request}\\n{format_instructions}\"\n",
    "human_prompt = HumanMessagePromptTemplate.from_template(template_text)\n",
    "\n",
    "# when get parser error, use it to refine the anwser\n",
    "system_prompt = SystemMessagePromptTemplate.from_template(\"You always reply to questions only in datetime patterns.\")"
   ]
  },
  {
   "cell_type": "code",
   "execution_count": 96,
   "id": "f73bffd3-498c-4b0a-bd1d-fdd6c86cdc08",
   "metadata": {},
   "outputs": [],
   "source": [
    "chat_prompt = ChatPromptTemplate.from_messages([human_prompt])"
   ]
  },
  {
   "cell_type": "code",
   "execution_count": 97,
   "id": "3b456d47-38f6-43fb-be8b-77bb0b9320f3",
   "metadata": {},
   "outputs": [],
   "source": [
    "model_request = chat_prompt.format_prompt(request=\"What date was the 13th Amendment ratified in the US?\",\n",
    "                          format_instructions = datetime_parser.get_format_instructions()).to_messages()"
   ]
  },
  {
   "cell_type": "code",
   "execution_count": 98,
   "id": "75dc67e4-fd69-4928-b2e8-a16d8ccb0c76",
   "metadata": {},
   "outputs": [],
   "source": [
    "result = model(model_request, temperature=0)"
   ]
  },
  {
   "cell_type": "code",
   "execution_count": 99,
   "id": "00077303-1479-4c27-942b-bef19b4b5b7e",
   "metadata": {},
   "outputs": [
    {
     "data": {
      "text/plain": [
       "'1865-12-06T00:00:00.000000Z'"
      ]
     },
     "execution_count": 99,
     "metadata": {},
     "output_type": "execute_result"
    }
   ],
   "source": [
    "result.content"
   ]
  },
  {
   "cell_type": "code",
   "execution_count": 70,
   "id": "e11afb4a-5425-4ef6-8222-74fc415e7e0b",
   "metadata": {},
   "outputs": [
    {
     "data": {
      "text/plain": [
       "datetime.datetime(1865, 12, 6, 0, 0)"
      ]
     },
     "execution_count": 70,
     "metadata": {},
     "output_type": "execute_result"
    }
   ],
   "source": [
    "datetime_parser.parse(result.content)"
   ]
  },
  {
   "cell_type": "markdown",
   "id": "f342c7ac-b77a-4cc4-87af-070fdce567d5",
   "metadata": {},
   "source": [
    "### fixing outpur parser"
   ]
  },
  {
   "cell_type": "code",
   "execution_count": 100,
   "id": "e5addad2-01cb-415b-950a-ff4ca6102360",
   "metadata": {},
   "outputs": [],
   "source": [
    "from langchain.output_parsers import OutputFixingParser"
   ]
  },
  {
   "cell_type": "code",
   "execution_count": 101,
   "id": "d7b7096c-dc00-498d-b74c-e283d734896b",
   "metadata": {},
   "outputs": [],
   "source": [
    "misformatted = result.content"
   ]
  },
  {
   "cell_type": "code",
   "execution_count": 109,
   "id": "364e5fe8-4de9-4c24-8bee-76daa6d1f236",
   "metadata": {},
   "outputs": [
    {
     "data": {
      "text/plain": [
       "\"Write a datetime string that matches the following pattern: '%Y-%m-%dT%H:%M:%S.%fZ'.\\n\\nExamples: 2023-07-04T14:30:00.000000Z, 1999-12-31T23:59:59.999999Z, 2025-01-01T00:00:00.000000Z\\n\\nReturn ONLY this string, no other words!\""
      ]
     },
     "execution_count": 109,
     "metadata": {},
     "output_type": "execute_result"
    }
   ],
   "source": [
    "new_parser = OutputFixingParser.from_llm(parser=datetime_parser,llm=model)\n",
    "new_parser.get_format_instructions()"
   ]
  },
  {
   "cell_type": "code",
   "execution_count": 110,
   "id": "ae9ce894-42d9-4797-8406-374c4825b62e",
   "metadata": {},
   "outputs": [
    {
     "data": {
      "text/plain": [
       "datetime.datetime(1865, 12, 6, 0, 0)"
      ]
     },
     "execution_count": 110,
     "metadata": {},
     "output_type": "execute_result"
    }
   ],
   "source": [
    "new_parser.parse(misformatted)"
   ]
  },
  {
   "cell_type": "code",
   "execution_count": null,
   "id": "e692fb99-b3b0-4b65-ba2c-1907099f2dd0",
   "metadata": {},
   "outputs": [],
   "source": []
  }
 ],
 "metadata": {
  "kernelspec": {
   "display_name": "Python 3 (ipykernel)",
   "language": "python",
   "name": "python3"
  },
  "language_info": {
   "codemirror_mode": {
    "name": "ipython",
    "version": 3
   },
   "file_extension": ".py",
   "mimetype": "text/x-python",
   "name": "python",
   "nbconvert_exporter": "python",
   "pygments_lexer": "ipython3",
   "version": "3.11.7"
  }
 },
 "nbformat": 4,
 "nbformat_minor": 5
}
