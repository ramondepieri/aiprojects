{
 "cells": [
  {
   "cell_type": "code",
   "execution_count": 3,
   "id": "cfff3258-5d69-4dee-bf47-35d8ad583618",
   "metadata": {},
   "outputs": [],
   "source": [
    "# old import from langchain.llms import OpenAI\n",
    "# old import from langchain.chat_models import ChatOpenAI\n",
    "from langchain_openai import ChatOpenAI, OpenAI"
   ]
  },
  {
   "cell_type": "code",
   "execution_count": 4,
   "id": "edc5269d-6eb6-4221-9c34-4d2412cd0cd4",
   "metadata": {},
   "outputs": [],
   "source": [
    "llm = OpenAI()"
   ]
  },
  {
   "cell_type": "code",
   "execution_count": 5,
   "id": "066c5df0-d49c-4e7a-8eb2-9cce5cb9d7c2",
   "metadata": {},
   "outputs": [],
   "source": [
    "chat = ChatOpenAI()"
   ]
  },
  {
   "cell_type": "code",
   "execution_count": 12,
   "id": "0f0a0b5e-98cd-4813-93a0-4b7f9f643788",
   "metadata": {},
   "outputs": [
    {
     "data": {
      "text/plain": [
       "': Venus is the second planet from the sun in our solar system. It is also the hottest planet in our solar system, with surface temperatures reaching up to 864 degrees Fahrenheit. Venus is often referred to as Earth\\'s \"sister planet\" because it is similar in size and composition, but it has a much different atmosphere and surface. Its atmosphere is mostly made up of carbon dioxide, which creates a dense greenhouse effect that traps heat and makes the planet extremely hot. Venus also has a thick layer of clouds that are made up of sulfuric acid. These clouds reflect sunlight, making Venus appear very bright in the sky.'"
      ]
     },
     "execution_count": 12,
     "metadata": {},
     "output_type": "execute_result"
    }
   ],
   "source": [
    "# LLM\n",
    "planet = 'Venus'\n",
    "llm(f\"Here is a fact about {planet}\")"
   ]
  },
  {
   "cell_type": "code",
   "execution_count": 13,
   "id": "48c22b5f-b637-497d-a0f4-b8780de3a8ea",
   "metadata": {},
   "outputs": [],
   "source": [
    "from langchain import PromptTemplate"
   ]
  },
  {
   "cell_type": "code",
   "execution_count": 18,
   "id": "35831cd0-ddeb-4601-8374-cf1058fb007c",
   "metadata": {},
   "outputs": [],
   "source": [
    "no_input_prompt = PromptTemplate(input_variables=[\"topic\"], template='Tell me a fact about {topic}')"
   ]
  },
  {
   "cell_type": "code",
   "execution_count": 19,
   "id": "4a9df6d9-387c-4039-8c56-1b341710d2d5",
   "metadata": {},
   "outputs": [
    {
     "data": {
      "text/plain": [
       "'\\n\\nMars is the fourth planet from the sun in our solar system. It is often referred to as the \"Red Planet\" due to its reddish appearance, caused by iron oxide (rust) on its surface. Mars has the largest volcano in the solar system, Olympus Mons, which stands at 21 kilometers (13 miles) tall. '"
      ]
     },
     "execution_count": 19,
     "metadata": {},
     "output_type": "execute_result"
    }
   ],
   "source": [
    "llm(no_input_prompt.format(topic='Mars'))"
   ]
  },
  {
   "cell_type": "code",
   "execution_count": null,
   "id": "c41b664b-c369-4879-85bc-b208994ee0cc",
   "metadata": {},
   "outputs": [],
   "source": []
  }
 ],
 "metadata": {
  "kernelspec": {
   "display_name": "Python 3 (ipykernel)",
   "language": "python",
   "name": "python3"
  },
  "language_info": {
   "codemirror_mode": {
    "name": "ipython",
    "version": 3
   },
   "file_extension": ".py",
   "mimetype": "text/x-python",
   "name": "python",
   "nbconvert_exporter": "python",
   "pygments_lexer": "ipython3",
   "version": "3.11.7"
  }
 },
 "nbformat": 4,
 "nbformat_minor": 5
}
