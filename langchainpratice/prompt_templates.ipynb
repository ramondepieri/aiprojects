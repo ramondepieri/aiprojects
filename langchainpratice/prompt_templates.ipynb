{
 "cells": [
  {
   "cell_type": "code",
   "execution_count": 1,
   "id": "cfff3258-5d69-4dee-bf47-35d8ad583618",
   "metadata": {},
   "outputs": [],
   "source": [
    "# old import from langchain.llms import OpenAI\n",
    "# old import from langchain.chat_models import ChatOpenAI\n",
    "from langchain_openai import ChatOpenAI, OpenAI"
   ]
  },
  {
   "cell_type": "code",
   "execution_count": 2,
   "id": "edc5269d-6eb6-4221-9c34-4d2412cd0cd4",
   "metadata": {},
   "outputs": [],
   "source": [
    "llm = OpenAI()"
   ]
  },
  {
   "cell_type": "code",
   "execution_count": 3,
   "id": "066c5df0-d49c-4e7a-8eb2-9cce5cb9d7c2",
   "metadata": {},
   "outputs": [],
   "source": [
    "chat = ChatOpenAI()"
   ]
  },
  {
   "cell_type": "code",
   "execution_count": 4,
   "id": "0f0a0b5e-98cd-4813-93a0-4b7f9f643788",
   "metadata": {},
   "outputs": [
    {
     "name": "stderr",
     "output_type": "stream",
     "text": [
      "/tmp/ipykernel_213456/602046771.py:3: LangChainDeprecationWarning: The method `BaseLLM.__call__` was deprecated in langchain-core 0.1.7 and will be removed in 1.0. Use :meth:`~invoke` instead.\n",
      "  llm(f\"Here is a fact about {planet}\")\n"
     ]
    },
    {
     "data": {
      "text/plain": [
       "':\\n\\nVenus is the second planet from the Sun and the hottest planet in our solar system, with an average surface temperature of 864 degrees Fahrenheit (462 degrees Celsius). This extreme heat is due to Venus\\' thick atmosphere, which traps heat and creates a runaway greenhouse effect. Despite its scorching surface, Venus is often called Earth\\'s \"sister planet\" because it is similar in size and composition, but its dense atmosphere and lack of water make it inhospitable for life as we know it. '"
      ]
     },
     "execution_count": 4,
     "metadata": {},
     "output_type": "execute_result"
    }
   ],
   "source": [
    "# LLM\n",
    "planet = 'Venus'\n",
    "llm(f\"Here is a fact about {planet}\")"
   ]
  },
  {
   "cell_type": "code",
   "execution_count": 5,
   "id": "48c22b5f-b637-497d-a0f4-b8780de3a8ea",
   "metadata": {},
   "outputs": [],
   "source": [
    "from langchain import PromptTemplate"
   ]
  },
  {
   "cell_type": "code",
   "execution_count": 6,
   "id": "35831cd0-ddeb-4601-8374-cf1058fb007c",
   "metadata": {},
   "outputs": [],
   "source": [
    "no_input_prompt = PromptTemplate(input_variables=[\"topic\"], template='Tell me a fact about {topic}')"
   ]
  },
  {
   "cell_type": "code",
   "execution_count": 8,
   "id": "4a9df6d9-387c-4039-8c56-1b341710d2d5",
   "metadata": {},
   "outputs": [
    {
     "data": {
      "text/plain": [
       "\"\\n\\nThe Pacific Ocean is the largest and deepest ocean in the world, covering about one-third of the Earth's surface and reaching depths of over 36,000 feet.\""
      ]
     },
     "execution_count": 8,
     "metadata": {},
     "output_type": "execute_result"
    }
   ],
   "source": [
    "llm(no_input_prompt.format(topic='the ocean'))"
   ]
  },
  {
   "cell_type": "code",
   "execution_count": 9,
   "id": "c41b664b-c369-4879-85bc-b208994ee0cc",
   "metadata": {},
   "outputs": [],
   "source": [
    "multi_input_prompt = PromptTemplate(input_variables=[\"topic\", \"level\"], template='Tell me a fact about {topic} for a {level} student')"
   ]
  },
  {
   "cell_type": "code",
   "execution_count": 11,
   "id": "42b760d0-e8a6-4d07-99a6-69b585075391",
   "metadata": {},
   "outputs": [
    {
     "data": {
      "text/plain": [
       "\"\\n\\nOne interesting fact about the ocean is that it covers over 70% of the Earth's surface and contains 97% of the planet's water. It also plays a crucial role in regulating the Earth's climate and is responsible for producing approximately half of the oxygen we breathe. Despite its vastness, only about 5% of the ocean has been explored, leaving much of its secrets and mysteries yet to be discovered. \""
      ]
     },
     "execution_count": 11,
     "metadata": {},
     "output_type": "execute_result"
    }
   ],
   "source": [
    "llm(multi_input_prompt.format(topic='the ocean', level='PhD level'))"
   ]
  },
  {
   "cell_type": "code",
   "execution_count": 14,
   "id": "f9ee0380-ed10-436b-b7cc-8dc90e20ad49",
   "metadata": {},
   "outputs": [],
   "source": [
    "from langchain.prompts import ChatPromptTemplate,PromptTemplate,SystemMessagePromptTemplate,AIMessagePromptTemplate,HumanMessagePromptTemplate"
   ]
  },
  {
   "cell_type": "code",
   "execution_count": 15,
   "id": "9b9a12bb-bff4-4b5a-a50e-e0819360f34e",
   "metadata": {},
   "outputs": [],
   "source": [
    "from langchain.schema import AIMessage, HumanMessage, SystemMessage"
   ]
  },
  {
   "cell_type": "code",
   "execution_count": null,
   "id": "ae3d68ec-d2f4-4a54-817a-c144d44703b0",
   "metadata": {},
   "outputs": [],
   "source": []
  }
 ],
 "metadata": {
  "kernelspec": {
   "display_name": "Python [conda env:base] *",
   "language": "python",
   "name": "conda-base-py"
  },
  "language_info": {
   "codemirror_mode": {
    "name": "ipython",
    "version": 3
   },
   "file_extension": ".py",
   "mimetype": "text/x-python",
   "name": "python",
   "nbconvert_exporter": "python",
   "pygments_lexer": "ipython3",
   "version": "3.13.5"
  }
 },
 "nbformat": 4,
 "nbformat_minor": 5
}
