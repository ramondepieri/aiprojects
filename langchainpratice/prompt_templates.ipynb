{
 "cells": [
  {
   "cell_type": "code",
   "execution_count": 1,
   "id": "cfff3258-5d69-4dee-bf47-35d8ad583618",
   "metadata": {},
   "outputs": [],
   "source": [
    "# old import from langchain.llms import OpenAI\n",
    "# old import from langchain.chat_models import ChatOpenAI\n",
    "from langchain_openai import ChatOpenAI, OpenAI"
   ]
  },
  {
   "cell_type": "code",
   "execution_count": 2,
   "id": "edc5269d-6eb6-4221-9c34-4d2412cd0cd4",
   "metadata": {},
   "outputs": [],
   "source": [
    "llm = OpenAI()"
   ]
  },
  {
   "cell_type": "code",
   "execution_count": 3,
   "id": "066c5df0-d49c-4e7a-8eb2-9cce5cb9d7c2",
   "metadata": {},
   "outputs": [],
   "source": [
    "chat = ChatOpenAI()"
   ]
  },
  {
   "cell_type": "code",
   "execution_count": 4,
   "id": "0f0a0b5e-98cd-4813-93a0-4b7f9f643788",
   "metadata": {},
   "outputs": [
    {
     "name": "stderr",
     "output_type": "stream",
     "text": [
      "/tmp/ipykernel_6274/602046771.py:3: LangChainDeprecationWarning: The method `BaseLLM.__call__` was deprecated in langchain-core 0.1.7 and will be removed in 1.0. Use :meth:`~invoke` instead.\n",
      "  llm(f\"Here is a fact about {planet}\")\n"
     ]
    },
    {
     "data": {
      "text/plain": [
       "': Venus is the second planet from the sun and is often referred to as Earth\\'s \"sister planet\" due to its similar size and composition. However, Venus has a much harsher environment with temperatures reaching up to 864 degrees Fahrenheit and a thick atmosphere made mostly of carbon dioxide.'"
      ]
     },
     "execution_count": 4,
     "metadata": {},
     "output_type": "execute_result"
    }
   ],
   "source": [
    "# LLM\n",
    "planet = 'Venus'\n",
    "llm(f\"Here is a fact about {planet}\")"
   ]
  },
  {
   "cell_type": "code",
   "execution_count": 5,
   "id": "48c22b5f-b637-497d-a0f4-b8780de3a8ea",
   "metadata": {},
   "outputs": [],
   "source": [
    "from langchain import PromptTemplate"
   ]
  },
  {
   "cell_type": "code",
   "execution_count": 6,
   "id": "35831cd0-ddeb-4601-8374-cf1058fb007c",
   "metadata": {},
   "outputs": [],
   "source": [
    "no_input_prompt = PromptTemplate(input_variables=[\"topic\"], template='Tell me a fact about {topic}')"
   ]
  },
  {
   "cell_type": "code",
   "execution_count": 7,
   "id": "4a9df6d9-387c-4039-8c56-1b341710d2d5",
   "metadata": {},
   "outputs": [
    {
     "data": {
      "text/plain": [
       "\"\\nThe ocean covers about 71% of the Earth's surface and contains around 97% of the Earth's water.\""
      ]
     },
     "execution_count": 7,
     "metadata": {},
     "output_type": "execute_result"
    }
   ],
   "source": [
    "llm(no_input_prompt.format(topic='the ocean'))"
   ]
  },
  {
   "cell_type": "code",
   "execution_count": 8,
   "id": "c41b664b-c369-4879-85bc-b208994ee0cc",
   "metadata": {},
   "outputs": [],
   "source": [
    "multi_input_prompt = PromptTemplate(input_variables=[\"topic\", \"level\"], template='Tell me a fact about {topic} for a {level} student')"
   ]
  },
  {
   "cell_type": "code",
   "execution_count": 9,
   "id": "42b760d0-e8a6-4d07-99a6-69b585075391",
   "metadata": {},
   "outputs": [
    {
     "data": {
      "text/plain": [
       "\"\\n\\nOne fact about the ocean for a PhD level student is that it covers more than 70% of the Earth's surface and contains approximately 97% of the Earth's water. This vast body of water plays a crucial role in regulating the Earth's climate and is home to an estimated 80% of all life on the planet. The ocean is also a major source of economic resources, with industries such as fishing, shipping, and energy production relying on its resources. As a PhD level student, understanding the complexities and interrelationships of the ocean's physical, chemical, and biological processes is crucial in addressing current and future challenges faced by this vital ecosystem.\""
      ]
     },
     "execution_count": 9,
     "metadata": {},
     "output_type": "execute_result"
    }
   ],
   "source": [
    "llm(multi_input_prompt.format(topic='the ocean', level='PhD level'))"
   ]
  },
  {
   "cell_type": "code",
   "execution_count": 10,
   "id": "f9ee0380-ed10-436b-b7cc-8dc90e20ad49",
   "metadata": {},
   "outputs": [],
   "source": [
    "from langchain.prompts import ChatPromptTemplate,PromptTemplate,SystemMessagePromptTemplate,AIMessagePromptTemplate,HumanMessagePromptTemplate"
   ]
  },
  {
   "cell_type": "code",
   "execution_count": 11,
   "id": "9b9a12bb-bff4-4b5a-a50e-e0819360f34e",
   "metadata": {},
   "outputs": [],
   "source": [
    "from langchain.schema import AIMessage, HumanMessage, SystemMessage"
   ]
  },
  {
   "cell_type": "code",
   "execution_count": 17,
   "id": "ae3d68ec-d2f4-4a54-817a-c144d44703b0",
   "metadata": {},
   "outputs": [],
   "source": [
    "system_template = \"You are an AI recipe assistant that specializes in {dietary_preference} dishes that can be prepared in {cooking_time}\""
   ]
  },
  {
   "cell_type": "code",
   "execution_count": 18,
   "id": "6dcceda6-998f-4c24-9a4d-ef52db053e81",
   "metadata": {},
   "outputs": [],
   "source": [
    "system_message_prompt = SystemMessagePromptTemplate.from_template(system_template)"
   ]
  },
  {
   "cell_type": "code",
   "execution_count": 19,
   "id": "7e529f0f-aabc-4fa3-9b06-c8ca60d00c7d",
   "metadata": {},
   "outputs": [],
   "source": [
    "human_template = \"{recipe_request}\""
   ]
  },
  {
   "cell_type": "code",
   "execution_count": 20,
   "id": "5acafd8c-4498-4097-875d-2e913747e0bc",
   "metadata": {},
   "outputs": [],
   "source": [
    "human_message_prompt = HumanMessagePromptTemplate.from_template(human_template)"
   ]
  },
  {
   "cell_type": "code",
   "execution_count": 21,
   "id": "758ea75d-4225-452d-ba54-13ca9fe90c3a",
   "metadata": {},
   "outputs": [
    {
     "data": {
      "text/plain": [
       "['cooking_time', 'dietary_preference']"
      ]
     },
     "execution_count": 21,
     "metadata": {},
     "output_type": "execute_result"
    }
   ],
   "source": [
    "system_message_prompt.input_variables"
   ]
  },
  {
   "cell_type": "code",
   "execution_count": 22,
   "id": "d2b26904-0711-4d65-ad43-4cf7fa4c8c8a",
   "metadata": {},
   "outputs": [
    {
     "data": {
      "text/plain": [
       "['recipe_request']"
      ]
     },
     "execution_count": 22,
     "metadata": {},
     "output_type": "execute_result"
    }
   ],
   "source": [
    "human_message_prompt.input_variables"
   ]
  },
  {
   "cell_type": "code",
   "execution_count": 23,
   "id": "3df09b17-234f-4a5e-8d8e-c2e2462f17d7",
   "metadata": {},
   "outputs": [],
   "source": [
    "chat_prompt = ChatPromptTemplate.from_messages([system_message_prompt, human_message_prompt])"
   ]
  },
  {
   "cell_type": "code",
   "execution_count": 24,
   "id": "3fc8ecc8-cf0d-4866-8669-505d4f760c8a",
   "metadata": {},
   "outputs": [
    {
     "data": {
      "text/plain": [
       "['cooking_time', 'dietary_preference', 'recipe_request']"
      ]
     },
     "execution_count": 24,
     "metadata": {},
     "output_type": "execute_result"
    }
   ],
   "source": [
    "chat_prompt.input_variables"
   ]
  },
  {
   "cell_type": "code",
   "execution_count": 25,
   "id": "63cd01d0-f8ae-448a-8b29-eccf3773d4d5",
   "metadata": {},
   "outputs": [
    {
     "data": {
      "text/plain": [
       "ChatPromptValue(messages=[SystemMessage(content='You are an AI recipe assistant that specializes in Vegan dishes that can be prepared in 60 min', additional_kwargs={}, response_metadata={}), HumanMessage(content='Quick Snack', additional_kwargs={}, response_metadata={})])"
      ]
     },
     "execution_count": 25,
     "metadata": {},
     "output_type": "execute_result"
    }
   ],
   "source": [
    "chat_prompt.format_prompt(cooking_time = '60 min', recipe_request = 'Quick Snack', dietary_preference = 'Vegan')"
   ]
  },
  {
   "cell_type": "code",
   "execution_count": 26,
   "id": "d5cfaaf6-86c2-4bcd-8d56-81a2353935c2",
   "metadata": {},
   "outputs": [],
   "source": [
    "prompt = chat_prompt.format_prompt(cooking_time = '60 min', recipe_request = 'Quick Snack', dietary_preference = 'Vegan').to_messages()"
   ]
  },
  {
   "cell_type": "code",
   "execution_count": 28,
   "id": "92dae9e7-8dc6-4543-9c49-58e4c0769319",
   "metadata": {},
   "outputs": [],
   "source": [
    "result = chat(prompt)"
   ]
  },
  {
   "cell_type": "code",
   "execution_count": 29,
   "id": "469be086-bdcb-4686-bfcc-b1fe090bfd0a",
   "metadata": {},
   "outputs": [
    {
     "name": "stdout",
     "output_type": "stream",
     "text": [
      "Sure! How about making some Vegan Tofu and Veggie Skewers? They are easy to prepare and make a delicious and healthy snack. Here's a simple recipe that you can prepare in less than 60 minutes:\n",
      "\n",
      "Ingredients:\n",
      "- 1 block of firm tofu, pressed and cut into cubes\n",
      "- 1 bell pepper, diced into chunks\n",
      "- 1 zucchini, sliced into rounds\n",
      "- 1 red onion, diced into chunks\n",
      "- 1/4 cup of soy sauce\n",
      "- 2 tablespoons of maple syrup\n",
      "- 1 tablespoon of olive oil\n",
      "- 1 teaspoon of garlic powder\n",
      "- 1 teaspoon of smoked paprika\n",
      "- Salt and pepper to taste\n",
      "\n",
      "Instructions:\n",
      "1. Preheat your oven to 400°F (200°C) and soak wooden skewers in water to prevent them from burning.\n",
      "2. In a bowl, mix together soy sauce, maple syrup, olive oil, garlic powder, smoked paprika, salt, and pepper to create a marinade.\n",
      "3. Thread the tofu, bell pepper, zucchini, and onion onto the skewers, alternating the ingredients.\n",
      "4. Place the skewers on a baking sheet lined with parchment paper and brush the marinade over the skewers.\n",
      "5. Bake in the preheated oven for about 20-25 minutes, or until the tofu is golden brown and the vegetables are tender, turning the skewers halfway through and brushing with more marinade.\n",
      "6. Serve the tofu and veggie skewers hot as a delicious and quick snack!\n",
      "\n",
      "Enjoy your tasty Vegan Tofu and Veggie Skewers!\n"
     ]
    }
   ],
   "source": [
    "print(result.content)"
   ]
  },
  {
   "cell_type": "code",
   "execution_count": null,
   "id": "d766cdd5-b7d4-4469-8053-2ae963dc0426",
   "metadata": {},
   "outputs": [],
   "source": []
  }
 ],
 "metadata": {
  "kernelspec": {
   "display_name": "Python 3 (ipykernel)",
   "language": "python",
   "name": "python3"
  },
  "language_info": {
   "codemirror_mode": {
    "name": "ipython",
    "version": 3
   },
   "file_extension": ".py",
   "mimetype": "text/x-python",
   "name": "python",
   "nbconvert_exporter": "python",
   "pygments_lexer": "ipython3",
   "version": "3.11.7"
  }
 },
 "nbformat": 4,
 "nbformat_minor": 5
}
