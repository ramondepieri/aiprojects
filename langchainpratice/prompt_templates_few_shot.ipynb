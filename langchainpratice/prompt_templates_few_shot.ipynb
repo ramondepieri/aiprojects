{
 "cells": [
  {
   "cell_type": "code",
   "execution_count": 1,
   "id": "50f2329b-1a85-4863-a932-00541965f22d",
   "metadata": {},
   "outputs": [],
   "source": [
    "from langchain_openai import ChatOpenAI, OpenAI"
   ]
  },
  {
   "cell_type": "code",
   "execution_count": 2,
   "id": "08daa797-e419-4f81-8fec-b7407575bcdb",
   "metadata": {},
   "outputs": [],
   "source": [
    "chat = ChatOpenAI()"
   ]
  },
  {
   "cell_type": "code",
   "execution_count": 4,
   "id": "a940ddfc-2c04-4da5-b8c9-7628bb7a7be1",
   "metadata": {},
   "outputs": [],
   "source": [
    "from langchain.prompts.chat import ChatPromptTemplate,SystemMessagePromptTemplate,HumanMessagePromptTemplate,AIMessagePromptTemplate"
   ]
  },
  {
   "cell_type": "code",
   "execution_count": 5,
   "id": "a434e6c5-9bd2-4ebb-97c3-256dbd303653",
   "metadata": {},
   "outputs": [],
   "source": [
    "# AI BOT LEGAL --> Simple Terms"
   ]
  },
  {
   "cell_type": "code",
   "execution_count": 24,
   "id": "56e004b2-7a36-45a6-9f02-17867cc97c7e",
   "metadata": {},
   "outputs": [],
   "source": [
    "system_template = \"You are a helpful legal assistant that translates complex legal terms into plain and understandable terms in Brazilian Portuguese\""
   ]
  },
  {
   "cell_type": "code",
   "execution_count": 25,
   "id": "0c896651-702a-45c0-9b4e-bf3b87c55bcf",
   "metadata": {},
   "outputs": [],
   "source": [
    "system_message_prompt = SystemMessagePromptTemplate.from_template(system_template)"
   ]
  },
  {
   "cell_type": "code",
   "execution_count": 26,
   "id": "6caa327e-0f52-4480-849d-954359951666",
   "metadata": {},
   "outputs": [],
   "source": [
    "# FEW SHOT\n",
    "# INPUT HUMAN\n",
    "# OUTPUT AI\n",
    "legal_text = \"The provisions herein shall be severable, and if any provision or portion thereof is deemed invalid, illegal, or unenforceable by a court of competent jurisdiction, the remaining provisions or portions thereof shall remain in full force and effect to the maximum extent permitted by law.\"\n",
    "example_input_one = HumanMessagePromptTemplate.from_template(legal_text)\n",
    "\n",
    "plain_text = \"As regras deste acordo podem ser separadas.\"\n",
    "example_output_one = AIMessagePromptTemplate.from_template(plain_text)"
   ]
  },
  {
   "cell_type": "code",
   "execution_count": 27,
   "id": "5b147cb5-08bf-488a-ac8e-cc91e6ad4f27",
   "metadata": {},
   "outputs": [],
   "source": [
    "human_template = \"{legal_text}\"\n",
    "human_message_prompt = HumanMessagePromptTemplate.from_template(human_template)"
   ]
  },
  {
   "cell_type": "code",
   "execution_count": 28,
   "id": "2aaf720a-9c0b-4b72-8eff-90a2c0055354",
   "metadata": {},
   "outputs": [],
   "source": [
    "chat_prompt = ChatPromptTemplate.from_messages(\n",
    "    [system_message_prompt, example_input_one, example_output_one, human_message_prompt])"
   ]
  },
  {
   "cell_type": "code",
   "execution_count": 29,
   "id": "5f097c7b-4148-4092-a52e-9af5d18e4e5e",
   "metadata": {},
   "outputs": [
    {
     "data": {
      "text/plain": [
       "['legal_text']"
      ]
     },
     "execution_count": 29,
     "metadata": {},
     "output_type": "execute_result"
    }
   ],
   "source": [
    "chat_prompt.input_variables"
   ]
  },
  {
   "cell_type": "code",
   "execution_count": 30,
   "id": "c185eae6-d617-41fa-82e7-92a0e6d569c5",
   "metadata": {},
   "outputs": [],
   "source": [
    "example_legal_text=\"Consequentemente, como contrapesos na ponderação, a Câmara apontou, por um lado, o potencial ofensivo que a informação publicada tinha para os direitos de personalidade e, por outro lado, o interesse público em que esta informação aparecesse ligada ao dados interesses pessoais do afetado, interesse em cuja avaliação a natureza pública ou privada do interessado e a passagem do tempo deveriam ser honestas: segundo a Sentença, quando se trata de pessoas de relevância pública - “pessoas que realizam uma empregos públicos e/ou que utilizam recursos públicos e, num sentido mais amplo, todos aqueles que desempenham um papel na vida pública, seja na política, na economia, na arte, na esfera social, no desporto e em qualquer outro campo , de acordo com a resolução 1165 (1998) da Assembleia Parlamentar do Conselho da Europa sobre o direito à privacidade -, o interesse público pode justificar essa informação sobre factos que afectam a sua privacidade ou a sua reputação, mesmo que tenham acontecido há muito tempo , está vinculado aos seus dados pessoais em processamento automatizado, como aquele envolvido em consultas através de motores de busca na Internet.\"\n",
    "request = chat_prompt.format_prompt(legal_text=example_legal_text).to_messages()"
   ]
  },
  {
   "cell_type": "code",
   "execution_count": 31,
   "id": "29dd575e-3b52-4349-9279-bfb3b72b37a8",
   "metadata": {},
   "outputs": [
    {
     "data": {
      "text/plain": [
       "[SystemMessage(content='You are a helpful legal assistant that translates complex legal terms into plain and understandable terms in Brazilian Portuguese', additional_kwargs={}, response_metadata={}),\n",
       " HumanMessage(content='The provisions herein shall be severable, and if any provision or portion thereof is deemed invalid, illegal, or unenforceable by a court of competent jurisdiction, the remaining provisions or portions thereof shall remain in full force and effect to the maximum extent permitted by law.', additional_kwargs={}, response_metadata={}),\n",
       " AIMessage(content='As regras deste acordo podem ser separadas.', additional_kwargs={}, response_metadata={}),\n",
       " HumanMessage(content='Consequentemente, como contrapesos na ponderação, a Câmara apontou, por um lado, o potencial ofensivo que a informação publicada tinha para os direitos de personalidade e, por outro lado, o interesse público em que esta informação aparecesse ligada ao dados interesses pessoais do afetado, interesse em cuja avaliação a natureza pública ou privada do interessado e a passagem do tempo deveriam ser honestas: segundo a Sentença, quando se trata de pessoas de relevância pública - “pessoas que realizam uma empregos públicos e/ou que utilizam recursos públicos e, num sentido mais amplo, todos aqueles que desempenham um papel na vida pública, seja na política, na economia, na arte, na esfera social, no desporto e em qualquer outro campo , de acordo com a resolução 1165 (1998) da Assembleia Parlamentar do Conselho da Europa sobre o direito à privacidade -, o interesse público pode justificar essa informação sobre factos que afectam a sua privacidade ou a sua reputação, mesmo que tenham acontecido há muito tempo , está vinculado aos seus dados pessoais em processamento automatizado, como aquele envolvido em consultas através de motores de busca na Internet.', additional_kwargs={}, response_metadata={})]"
      ]
     },
     "execution_count": 31,
     "metadata": {},
     "output_type": "execute_result"
    }
   ],
   "source": [
    "request"
   ]
  },
  {
   "cell_type": "code",
   "execution_count": 32,
   "id": "f2be3c0a-c0bc-4514-aa04-9465aa13b7bc",
   "metadata": {},
   "outputs": [],
   "source": [
    "result = chat(request)"
   ]
  },
  {
   "cell_type": "code",
   "execution_count": 33,
   "id": "2d9de542-72e8-48fe-aad9-3c987540ade2",
   "metadata": {},
   "outputs": [
    {
     "name": "stdout",
     "output_type": "stream",
     "text": [
      "Consequentemente, para equilibrar os interesses em questão, a Câmara considerou, de um lado, o dano potencial que a informação divulgada poderia causar aos direitos de personalidade e, de outro lado, o interesse público em que essa informação fosse associada aos interesses pessoais da pessoa afetada. O tribunal entendeu que, ao avaliar esse interesse público, a natureza pública ou privada da pessoa afetada e o tempo decorrido devem ser considerados de forma honesta. Segundo a sentença, no caso de pessoas de relevância pública - que ocupam cargos públicos, utilizam recursos públicos ou desempenham algum papel na vida pública, como política, economia, arte, esfera social, esporte, entre outros - o interesse público pode justificar a divulgação de informações que afetem sua privacidade ou reputação, mesmo que esses fatos tenham ocorrido há muito tempo e estejam relacionados aos dados pessoais processados automaticamente, como os envolvidos em consultas por meio de mecanismos de busca na internet.\n"
     ]
    }
   ],
   "source": [
    "print(result.content)"
   ]
  },
  {
   "cell_type": "code",
   "execution_count": null,
   "id": "f826cc65-1789-4969-a71a-7db2b5dc94c7",
   "metadata": {},
   "outputs": [],
   "source": []
  }
 ],
 "metadata": {
  "kernelspec": {
   "display_name": "Python 3 (ipykernel)",
   "language": "python",
   "name": "python3"
  },
  "language_info": {
   "codemirror_mode": {
    "name": "ipython",
    "version": 3
   },
   "file_extension": ".py",
   "mimetype": "text/x-python",
   "name": "python",
   "nbconvert_exporter": "python",
   "pygments_lexer": "ipython3",
   "version": "3.11.7"
  }
 },
 "nbformat": 4,
 "nbformat_minor": 5
}
